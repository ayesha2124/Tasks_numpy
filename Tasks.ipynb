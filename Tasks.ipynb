{
  "nbformat": 4,
  "nbformat_minor": 0,
  "metadata": {
    "colab": {
      "provenance": []
    },
    "kernelspec": {
      "name": "python3",
      "display_name": "Python 3"
    },
    "language_info": {
      "name": "python"
    }
  },
  "cells": [
    {
      "cell_type": "code",
      "execution_count": 34,
      "metadata": {
        "id": "0TWbX6faVowl"
      },
      "outputs": [],
      "source": [
        "#1.\tArray Creation"
      ]
    },
    {
      "cell_type": "code",
      "source": [
        "#Create a 1D array of numbers from 10 to 50.\n",
        "import numpy as np\n",
        "a=np.arange(10,51)\n",
        "a.ndim\n",
        "a"
      ],
      "metadata": {
        "id": "uN8xRwttgELh",
        "outputId": "d3c9ecc8-0d94-4989-9015-9776b7dc92a3",
        "colab": {
          "base_uri": "https://localhost:8080/"
        }
      },
      "execution_count": 35,
      "outputs": [
        {
          "output_type": "execute_result",
          "data": {
            "text/plain": [
              "array([10, 11, 12, 13, 14, 15, 16, 17, 18, 19, 20, 21, 22, 23, 24, 25, 26,\n",
              "       27, 28, 29, 30, 31, 32, 33, 34, 35, 36, 37, 38, 39, 40, 41, 42, 43,\n",
              "       44, 45, 46, 47, 48, 49, 50])"
            ]
          },
          "metadata": {},
          "execution_count": 35
        }
      ]
    },
    {
      "cell_type": "code",
      "source": [
        "#2. Create a 3x3 array of random numbers between 0 and 1."
      ],
      "metadata": {
        "id": "Jae3d9HfWiyl"
      },
      "execution_count": 36,
      "outputs": []
    },
    {
      "cell_type": "code",
      "source": [
        "r = np.random.rand(3, 3)\n",
        "r"
      ],
      "metadata": {
        "id": "jcuvbhbngAsG",
        "outputId": "79f7bb2d-eb59-4267-dc0e-a052a4f4ad7c",
        "colab": {
          "base_uri": "https://localhost:8080/"
        }
      },
      "execution_count": 37,
      "outputs": [
        {
          "output_type": "execute_result",
          "data": {
            "text/plain": [
              "array([[0.12679477, 0.96537847, 0.51316807],\n",
              "       [0.02728447, 0.93942833, 0.26794464],\n",
              "       [0.25247945, 0.33333932, 0.61777824]])"
            ]
          },
          "metadata": {},
          "execution_count": 37
        }
      ]
    },
    {
      "cell_type": "code",
      "source": [
        "#Find the shape, size, and data type of the array you created in the previous task.\n",
        "print(\"shape of array\",a.shape)\n",
        "print(\"size of the array\",a.size)\n",
        "print(\"data type of the array\",a.dtype)\n",
        "print(\"dimension of the array\",a.ndim)"
      ],
      "metadata": {
        "colab": {
          "base_uri": "https://localhost:8080/"
        },
        "id": "axs4-cxmXTy6",
        "outputId": "27a08682-1e4a-4622-db8f-017091e22da2"
      },
      "execution_count": 38,
      "outputs": [
        {
          "output_type": "stream",
          "name": "stdout",
          "text": [
            "shape of array (41,)\n",
            "size of the array 41\n",
            "data type of the array int64\n",
            "dimension of the array 1\n"
          ]
        }
      ]
    },
    {
      "cell_type": "code",
      "source": [
        "#3. Basic Operations"
      ],
      "metadata": {
        "id": "oTbH7ZhcYZz0"
      },
      "execution_count": 39,
      "outputs": []
    },
    {
      "cell_type": "code",
      "source": [
        "#Add 5 to every element of a 1D array.\n",
        "arr1=np.array([1,2,3])\n",
        "arr1+5\n"
      ],
      "metadata": {
        "colab": {
          "base_uri": "https://localhost:8080/"
        },
        "id": "kjAauA1XYkwZ",
        "outputId": "f615b95c-408b-47fb-d5b8-43d3c9a2d19c"
      },
      "execution_count": 40,
      "outputs": [
        {
          "output_type": "execute_result",
          "data": {
            "text/plain": [
              "array([6, 7, 8])"
            ]
          },
          "metadata": {},
          "execution_count": 40
        }
      ]
    },
    {
      "cell_type": "code",
      "source": [
        "arr1 = np.array([[1, 2], [3, 4]])\n",
        "arr2 = np.array([[5, 6], [7, 8]])\n",
        "arr1 * arr2"
      ],
      "metadata": {
        "colab": {
          "base_uri": "https://localhost:8080/"
        },
        "id": "Ug9U1gcAZIUS",
        "outputId": "e4301565-e53b-4d12-c49a-8fa0985f9d70"
      },
      "execution_count": 41,
      "outputs": [
        {
          "output_type": "execute_result",
          "data": {
            "text/plain": [
              "array([[ 5, 12],\n",
              "       [21, 32]])"
            ]
          },
          "metadata": {},
          "execution_count": 41
        }
      ]
    },
    {
      "cell_type": "code",
      "source": [
        "#4.\tIndexing and Slicing"
      ],
      "metadata": {
        "id": "KxHD2ggzZfu4"
      },
      "execution_count": 42,
      "outputs": []
    },
    {
      "cell_type": "code",
      "source": [
        "#Create a 5x5 array of integers from 1 to 25. Extract:\n",
        "# The first row.\n",
        "# The last column.\n",
        "# A subarray of the first three rows and first two columns.\n",
        "\n",
        "a= np.arange(1, 26).reshape(5, 5)\n",
        "print(a)\n",
        "print(\"first row\",a[0, :])\n",
        "print(\"last column\",a[:, -1])\n",
        "print(\"subarray\", a[:3, :2])"
      ],
      "metadata": {
        "colab": {
          "base_uri": "https://localhost:8080/"
        },
        "id": "KNHL3WW_Zkj5",
        "outputId": "7f842b61-b711-46bd-f95b-d5e0a41dff56"
      },
      "execution_count": 43,
      "outputs": [
        {
          "output_type": "stream",
          "name": "stdout",
          "text": [
            "[[ 1  2  3  4  5]\n",
            " [ 6  7  8  9 10]\n",
            " [11 12 13 14 15]\n",
            " [16 17 18 19 20]\n",
            " [21 22 23 24 25]]\n",
            "first row [1 2 3 4 5]\n",
            "last column [ 5 10 15 20 25]\n",
            "subarray [[ 1  2]\n",
            " [ 6  7]\n",
            " [11 12]]\n"
          ]
        }
      ]
    },
    {
      "cell_type": "code",
      "source": [
        "#5.\tAggregation"
      ],
      "metadata": {
        "id": "99ojqsCJajW9"
      },
      "execution_count": 44,
      "outputs": []
    },
    {
      "cell_type": "code",
      "source": [
        "# Create a 10-element array of random integers between 1 and 100. Find:\n",
        "# The maximum value.\n",
        "# The minimum value.\n",
        "# The mean and standard deviation.\n",
        "\n",
        "a = np.random.randint(1, 101, size=10)\n",
        "print(\"Maximum value:\", np.max(a))\n",
        "print(\"Minimum value:\", np.min(a))\n",
        "print(\"Mean:\", np.mean(a))\n",
        "print(\"Standard deviation:\", np.std(a))"
      ],
      "metadata": {
        "colab": {
          "base_uri": "https://localhost:8080/"
        },
        "id": "F13k35H6a4DL",
        "outputId": "08e6b1b0-7520-46b5-dbd7-e56cc7798e25"
      },
      "execution_count": 45,
      "outputs": [
        {
          "output_type": "stream",
          "name": "stdout",
          "text": [
            "Maximum value: 96\n",
            "Minimum value: 8\n",
            "Mean: 53.4\n",
            "Standard deviation: 32.293033304414124\n"
          ]
        }
      ]
    },
    {
      "cell_type": "code",
      "source": [
        "#6.\tReshaping"
      ],
      "metadata": {
        "id": "vjLS582GcUSx"
      },
      "execution_count": 46,
      "outputs": []
    },
    {
      "cell_type": "code",
      "source": [
        "#Convert a 1D array of numbers from 1 to 12 into a 3x4 matrix.\n",
        "c = np.arange(1, 13)\n",
        "c.reshape(3, 4)"
      ],
      "metadata": {
        "colab": {
          "base_uri": "https://localhost:8080/"
        },
        "id": "AzEd1oNwb2K1",
        "outputId": "1d82ec08-7309-45fc-acd5-6d30303e5b8c"
      },
      "execution_count": 47,
      "outputs": [
        {
          "output_type": "execute_result",
          "data": {
            "text/plain": [
              "array([[ 1,  2,  3,  4],\n",
              "       [ 5,  6,  7,  8],\n",
              "       [ 9, 10, 11, 12]])"
            ]
          },
          "metadata": {},
          "execution_count": 47
        }
      ]
    },
    {
      "cell_type": "code",
      "source": [
        "#7.\tBroadcasting"
      ],
      "metadata": {
        "id": "HCZA4b9YcQ9b"
      },
      "execution_count": 48,
      "outputs": []
    },
    {
      "cell_type": "code",
      "source": [
        "#Create a 3x3 matrix of ones. Add a 1D array [1, 2, 3] to each row.\n",
        "a = np.ones((3, 3), dtype=int)\n",
        "b= np.array([1, 2, 3])\n",
        "a+b"
      ],
      "metadata": {
        "colab": {
          "base_uri": "https://localhost:8080/"
        },
        "id": "dnACw34ucYfb",
        "outputId": "e88c00e4-fbcc-45b4-d334-3f229011ef26"
      },
      "execution_count": 49,
      "outputs": [
        {
          "output_type": "execute_result",
          "data": {
            "text/plain": [
              "array([[2, 3, 4],\n",
              "       [2, 3, 4],\n",
              "       [2, 3, 4]])"
            ]
          },
          "metadata": {},
          "execution_count": 49
        }
      ]
    },
    {
      "cell_type": "code",
      "source": [
        "#8.\tFiltering"
      ],
      "metadata": {
        "id": "uoZhiY0zc6Ql"
      },
      "execution_count": 50,
      "outputs": []
    },
    {
      "cell_type": "code",
      "source": [
        "#Create a 1D array of random integers between 1 and 50. Extract all elements that are divisible by 5.\n",
        "a=np.arange(1,51)\n",
        "divisible_by_5 = a[a % 5 == 0]\n",
        "\n",
        "print(\"Original array:\", a)\n",
        "print(\"Elements divisible by 5:\", divisible_by_5)"
      ],
      "metadata": {
        "colab": {
          "base_uri": "https://localhost:8080/"
        },
        "id": "HHras9yPc-rL",
        "outputId": "79caabcf-6db2-41b2-af6b-73b6bea27dfe"
      },
      "execution_count": 51,
      "outputs": [
        {
          "output_type": "stream",
          "name": "stdout",
          "text": [
            "Original array: [ 1  2  3  4  5  6  7  8  9 10 11 12 13 14 15 16 17 18 19 20 21 22 23 24\n",
            " 25 26 27 28 29 30 31 32 33 34 35 36 37 38 39 40 41 42 43 44 45 46 47 48\n",
            " 49 50]\n",
            "Elements divisible by 5: [ 5 10 15 20 25 30 35 40 45 50]\n"
          ]
        }
      ]
    },
    {
      "cell_type": "code",
      "source": [
        "#9.\tMatrix Multiplication"
      ],
      "metadata": {
        "id": "IoGbBsXLd3ax"
      },
      "execution_count": 52,
      "outputs": []
    },
    {
      "cell_type": "code",
      "source": [
        "#Create two 2x2 matrices and perform matrix multiplication.\n",
        "arr1 = np.array([[1, 2], [3, 4]])\n",
        "arr2 = np.array([[5, 6], [7, 8]])\n",
        "a=np.dot(arr1,arr2)\n",
        "a"
      ],
      "metadata": {
        "colab": {
          "base_uri": "https://localhost:8080/"
        },
        "id": "95KQtdVDd67Q",
        "outputId": "aa80d3dd-d59b-4e27-f77b-d85b1129d27f"
      },
      "execution_count": 53,
      "outputs": [
        {
          "output_type": "execute_result",
          "data": {
            "text/plain": [
              "array([[19, 22],\n",
              "       [43, 50]])"
            ]
          },
          "metadata": {},
          "execution_count": 53
        }
      ]
    },
    {
      "cell_type": "code",
      "source": [
        "#10.\tAdvanced Indexing"
      ],
      "metadata": {
        "id": "BJNEc2Gge0qG"
      },
      "execution_count": 54,
      "outputs": []
    },
    {
      "cell_type": "code",
      "source": [
        "# Given a 4x4 array, use fancy indexing to extract the diagonal elements.\n",
        "arr = np.arange(16).reshape(4, 4)\n",
        "diagonal_elements = arr[[0, 1, 2, 3], [0, 1, 2, 3]]\n",
        "print(\"Original array:\\n\", arr)\n",
        "print(\"Diagonal elements:\", diagonal_elements)"
      ],
      "metadata": {
        "id": "pGajOP8ke9GO",
        "outputId": "f972a8fc-bae3-4df6-a382-e0eb2cd4de09",
        "colab": {
          "base_uri": "https://localhost:8080/"
        }
      },
      "execution_count": 55,
      "outputs": [
        {
          "output_type": "stream",
          "name": "stdout",
          "text": [
            "Original array:\n",
            " [[ 0  1  2  3]\n",
            " [ 4  5  6  7]\n",
            " [ 8  9 10 11]\n",
            " [12 13 14 15]]\n",
            "Diagonal elements: [ 0  5 10 15]\n"
          ]
        }
      ]
    }
  ]
}